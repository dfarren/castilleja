{
 "cells": [
  {
   "cell_type": "markdown",
   "metadata": {},
   "source": [
    "# Introduction to Regression\n",
    "\n",
    "### Simple Case\n",
    "\n",
    "chage 1\n",
    "\n",
    "Given a set of data points, (x,y), we would like to find a linear model that will allow us to predict y given x.\n",
    "\n",
    "$$\\text{Input: } (x^{(i)},y^{(i)})$$, where i is a specific element in the training set used to build the model\n",
    "$$\\text{Model: } y=\\theta x+b$$\n",
    "$$\\text{Error: } y-y= ε$$\n",
    "\n",
    "Notational Note:  In machine learning, it is common to refer to the examples in your training set using superscripts, as in $$x^{(3)}$$, and not using subscripts.  Subscripts tend to be used to identify different variables.\n",
    "\n",
    "### General Case\n",
    "\n",
    "Given a set of data points, (x1(i),x2(i),…,xn(i),y(i)),, we would like to find a linear model that will allow us to predict y given x1,x2,…,xn.\n",
    "\n",
    "Input:  (x1(i),x2(i),…,xn(i),y(i)), where i is the specific example from your training set\n",
    "Model: y=θ1x1+θ2x2+…+θnxn+b\n",
    "Residual:  y-y= ε"
   ]
  },
  {
   "cell_type": "markdown",
   "metadata": {},
   "source": [
    "The following code just sets up this notebook environment. Just run it and then ignore it."
   ]
  },
  {
   "cell_type": "code",
   "execution_count": 3,
   "metadata": {
    "collapsed": false,
    "scrolled": true
   },
   "outputs": [],
   "source": [
    "# Execute this cell once to setup the notebook environment, then ignore it\n",
    "\n",
    "# set the path\n",
    "import os\n",
    "import sys\n",
    "module_path = os.path.abspath(os.path.join('..'))\n",
    "if module_path not in sys.path:\n",
    "    sys.path.append(module_path)\n",
    "\n",
    "# load the notebook's style sheet\n",
    "from IPython.core.display import HTML\n",
    "css_file = 'style.css'\n",
    "HTML(open(css_file, \"r\").read())\n",
    "\n",
    "# embed plots\n",
    "%matplotlib inline"
   ]
  },
  {
   "cell_type": "markdown",
   "metadata": {},
   "source": [
    "Now we start coding. First, import packages."
   ]
  },
  {
   "cell_type": "code",
   "execution_count": 4,
   "metadata": {
    "collapsed": false
   },
   "outputs": [],
   "source": [
    "import numpy as np\n",
    "from sklearn.linear_model import SGDRegressor, LinearRegression\n",
    "from regression import introduction\n",
    "import pdb"
   ]
  },
  {
   "cell_type": "markdown",
   "metadata": {},
   "source": [
    "## Linear data"
   ]
  },
  {
   "cell_type": "code",
   "execution_count": null,
   "metadata": {
    "collapsed": false
   },
   "outputs": [],
   "source": [
    "x, y = introduction.generate_linear_data(slope=1, intercept=10, noise_std=10)\n",
    "introduction.plot(x, y)"
   ]
  },
  {
   "cell_type": "markdown",
   "metadata": {},
   "source": [
    "In the below box, write your code. Save your predictions in an array called **predictions**."
   ]
  },
  {
   "cell_type": "code",
   "execution_count": 4,
   "metadata": {
    "collapsed": false
   },
   "outputs": [],
   "source": [
    "model = SGDRegressor(loss='squared_loss',  n_iter=10, eta0=0.0001)\n",
    "model.fit(x, y)\n",
    "predictions = model.predict(x)"
   ]
  },
  {
   "cell_type": "markdown",
   "metadata": {},
   "source": [
    "Let's see how accurate your model is."
   ]
  },
  {
   "cell_type": "code",
   "execution_count": 5,
   "metadata": {
    "collapsed": false
   },
   "outputs": [
    {
     "data": {
      "image/png": "[encoded data removed]",
      "text/plain": [
       "<matplotlib.figure.Figure at 0x10a9db250>"
      ]
     },
     "metadata": {},
     "output_type": "display_data"
    }
   ],
   "source": [
    "introduction.plot(x, y, predictions)"
   ]
  },
  {
   "cell_type": "markdown",
   "metadata": {},
   "source": [
    "## Outlier linear data"
   ]
  },
  {
   "cell_type": "code",
   "execution_count": null,
   "metadata": {
    "collapsed": false
   },
   "outputs": [],
   "source": [
    "x, y = introduction.generate_linear_data(slope=1, intercept=0, noise_std=1, max_x=10)\n",
    "y[0] = 10\n",
    "y[y.shape[0]-1] = 0\n",
    "introduction.plot(x, y)"
   ]
  },
  {
   "cell_type": "code",
   "execution_count": null,
   "metadata": {
    "collapsed": false
   },
   "outputs": [],
   "source": [
    "model = SGDRegressor(loss='huber', eta0=0.01, n_iter=10000)\n",
    "model.fit(x, y)\n",
    "predictions = model.predict(x)"
   ]
  },
  {
   "cell_type": "code",
   "execution_count": null,
   "metadata": {
    "collapsed": false
   },
   "outputs": [],
   "source": [
    "introduction.plot(x, y, predictions)"
   ]
  },
  {
   "cell_type": "code",
   "execution_count": null,
   "metadata": {
    "collapsed": true
   },
   "outputs": [],
   "source": [
    "# Quadratic data\n",
    "x, y = generate_quadratic_data(a=1, b=10, c=1, noise_std=500)\n",
    "plot(x, y)\n",
    "\n",
    "##################################################################\n",
    "#################### START YOUR CODE HERE ########################\n",
    "##################################################################\n",
    "X = np.hstack((x**2, x))\n",
    "model = LinearRegression()\n",
    "model.fit(X, y)\n",
    "predictions = model.predict(X)\n",
    "##################################################################\n",
    "#################### END YOUR CODE HERE ##########################\n",
    "##################################################################\n",
    "plot(x, y, predictions)"
   ]
  },
  {
   "cell_type": "code",
   "execution_count": null,
   "metadata": {
    "collapsed": true
   },
   "outputs": [],
   "source": [
    "#### SCALING EXAMPLE\n",
    "x, y = generate_unscaled_data(coefs=[1,1], intercept=1, noise_std=10)\n",
    "plot(x, y)\n",
    "\n",
    "##################################################################\n",
    "#################### START YOUR CODE HERE ########################\n",
    "##################################################################\n",
    "X = np.hstack((x**2, x))\n",
    "model = LinearRegression()\n",
    "model.fit(X, y)\n",
    "predictions = model.predict(X)\n",
    "##################################################################\n",
    "#################### END YOUR CODE HERE ##########################\n",
    "##################################################################\n",
    "plot(x, y, predictions)"
   ]
  }
 ],
 "metadata": {
  "kernelspec": {
   "display_name": "Python 2",
   "language": "python",
   "name": "python2"
  },
  "language_info": {
   "codemirror_mode": {
    "name": "ipython",
    "version": 2
   },
   "file_extension": ".py",
   "mimetype": "text/x-python",
   "name": "python",
   "nbconvert_exporter": "python",
   "pygments_lexer": "ipython2",
   "version": "2.7.5"
  }
 },
 "nbformat": 4,
 "nbformat_minor": 0
}
