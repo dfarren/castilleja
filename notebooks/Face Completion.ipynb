{
 "cells": [
  {
   "cell_type": "code",
   "execution_count": 1,
   "metadata": {
    "collapsed": false
   },
   "outputs": [],
   "source": [
    "# Execute this cell once to setup the notebook environment, then ignore it\n",
    "\n",
    "# set the path\n",
    "import os\n",
    "import sys\n",
    "module_path = os.path.abspath(os.path.join('..'))\n",
    "if module_path not in sys.path:\n",
    "    sys.path.append(module_path)\n",
    "\n",
    "# load the notebook's style sheet\n",
    "from IPython.core.display import HTML\n",
    "css_file = 'style.css'\n",
    "HTML(open(css_file, \"r\").read())\n",
    "\n",
    "# embed plots\n",
    "%matplotlib inline\n",
    "\n",
    "import numpy as np\n",
    "from sklearn.linear_model import SGDRegressor\n",
    "from sklearn.preprocessing import StandardScaler\n",
    "from regression.toolkit import faces_data, plot_faces_results, plot_image"
   ]
  },
  {
   "cell_type": "markdown",
   "metadata": {},
   "source": [
    "This is the Face Completion project. Your task is to predict the lower part of someones face based on the upper part.\n",
    "First, pull the data:"
   ]
  },
  {
   "cell_type": "code",
   "execution_count": 2,
   "metadata": {
    "collapsed": false,
    "scrolled": true
   },
   "outputs": [],
   "source": [
    "(X_train, y_train), (X_test, y_test) = faces_data()"
   ]
  },
  {
   "cell_type": "markdown",
   "metadata": {},
   "source": [
    "Let's check how it looks like:"
   ]
  },
  {
   "cell_type": "code",
   "execution_count": null,
   "metadata": {
    "collapsed": false,
    "scrolled": true
   },
   "outputs": [
    {
     "name": "stdout",
     "output_type": "stream",
     "text": [
      "Input data has 300 examples, each or them with 2048 features.\n",
      "Target data has 300 examples, each or them with 2048 features.\n",
      "The first example is:\n"
     ]
    },
    {
     "data": {
      "image/png": "[encoded data removed]",
      "text/plain": [
       "<matplotlib.figure.Figure at 0x10d9f3110>"
      ]
     },
     "metadata": {},
     "output_type": "display_data"
    }
   ],
   "source": [
    "print(\"Input data has %d examples, each or them with %d features.\" % (X_train.shape[0], X_train.shape[1]))\n",
    "print(\"Target data has %d examples, each or them with %d features.\" % (y_train.shape[0], y_train.shape[1]))\n",
    "\n",
    "print(\"The first example is:\")\n",
    "full_face = np.hstack((X_train[0], y_train[0]))\n",
    "plot_image(full_face)"
   ]
  },
  {
   "cell_type": "markdown",
   "metadata": {},
   "source": [
    "Now you have to:\n",
    "\n",
    "1. scale the data\n",
    "2. use the scaled training data to fit a model\n",
    "3. predict using the testing data\n",
    "4. unscale the prediction\n",
    "\n",
    "Save your results in variable y_test_predict."
   ]
  },
  {
   "cell_type": "code",
   "execution_count": null,
   "metadata": {
    "collapsed": true
   },
   "outputs": [],
   "source": [
    "Xscaler = StandardScaler()\n",
    "X_train_scaled = Xscaler.fit_transform(X_train, y_train)\n",
    "yscaler = StandardScaler()\n",
    "y_train_scaled = yscaler.fit_transform(y_train)\n",
    "m, n = X_train_scaled.shape\n",
    "n_target = y_train_scaled.shape[1]\n",
    "\n",
    "models = []\n",
    "for i in xrange(n_target):\n",
    "    models.append(SGDRegressor(loss='squared_loss',  n_iter=10, eta0=0.00001).fit(X_train_scaled, y_train_scaled[:,i]))\n",
    "\n",
    "X_test_scaled = Xscaler.transform(X_test)\n",
    "y_test_predict_scaled = np.zeros((X_test_scaled.shape[0], len(models)))\n",
    "\n",
    "for i, m in enumerate(models):\n",
    "    y_test_predict_scaled[:,i] = m.predict(X_test)\n",
    "y_test_predict = yscaler.inverse_transform(y_test_predict_scaled)"
   ]
  },
  {
   "cell_type": "code",
   "execution_count": null,
   "metadata": {
    "collapsed": false
   },
   "outputs": [],
   "source": [
    "plot_results(X_test, y_test, y_test_predict)"
   ]
  },
  {
   "cell_type": "code",
   "execution_count": null,
   "metadata": {
    "collapsed": true
   },
   "outputs": [],
   "source": []
  }
 ],
 "metadata": {
  "kernelspec": {
   "display_name": "Python [default]",
   "language": "python",
   "name": "python2"
  },
  "language_info": {
   "codemirror_mode": {
    "name": "ipython",
    "version": 2
   },
   "file_extension": ".py",
   "mimetype": "text/x-python",
   "name": "python",
   "nbconvert_exporter": "python",
   "pygments_lexer": "ipython2",
   "version": "2.7.12"
  }
 },
 "nbformat": 4,
 "nbformat_minor": 1
}
